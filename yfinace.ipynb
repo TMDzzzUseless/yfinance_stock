{
  "nbformat": 4,
  "nbformat_minor": 0,
  "metadata": {
    "colab": {
      "name": "yfinace.ipynb",
      "provenance": [],
      "authorship_tag": "ABX9TyMJk0Oycs6wI4VMRMoqR8W1",
      "include_colab_link": true
    },
    "kernelspec": {
      "name": "python3",
      "display_name": "Python 3"
    },
    "language_info": {
      "name": "python"
    }
  },
  "cells": [
    {
      "cell_type": "markdown",
      "metadata": {
        "id": "view-in-github",
        "colab_type": "text"
      },
      "source": [
        "<a href=\"https://colab.research.google.com/github/TMDzzzUseless/yfinance_stock/blob/main/yfinace.ipynb\" target=\"_parent\"><img src=\"https://colab.research.google.com/assets/colab-badge.svg\" alt=\"Open In Colab\"/></a>"
      ]
    },
    {
      "cell_type": "code",
      "execution_count": null,
      "metadata": {
        "colab": {
          "base_uri": "https://localhost:8080/"
        },
        "id": "PLn746Khg37W",
        "outputId": "fc6fd658-190c-43db-8aab-f48161a51a3b"
      },
      "outputs": [
        {
          "output_type": "stream",
          "name": "stdout",
          "text": [
            "Collecting twstock\n",
            "  Downloading twstock-1.3.1-py3-none-any.whl (1.9 MB)\n",
            "\u001b[K     |████████████████████████████████| 1.9 MB 9.2 MB/s \n",
            "\u001b[?25hRequirement already satisfied: requests in /usr/local/lib/python3.7/dist-packages (from twstock) (2.23.0)\n",
            "Requirement already satisfied: chardet<4,>=3.0.2 in /usr/local/lib/python3.7/dist-packages (from requests->twstock) (3.0.4)\n",
            "Requirement already satisfied: certifi>=2017.4.17 in /usr/local/lib/python3.7/dist-packages (from requests->twstock) (2021.10.8)\n",
            "Requirement already satisfied: idna<3,>=2.5 in /usr/local/lib/python3.7/dist-packages (from requests->twstock) (2.10)\n",
            "Requirement already satisfied: urllib3!=1.25.0,!=1.25.1,<1.26,>=1.21.1 in /usr/local/lib/python3.7/dist-packages (from requests->twstock) (1.24.3)\n",
            "Installing collected packages: twstock\n",
            "Successfully installed twstock-1.3.1\n",
            "Collecting yfinance\n",
            "  Downloading yfinance-0.1.70-py2.py3-none-any.whl (26 kB)\n",
            "Collecting requests>=2.26\n",
            "  Downloading requests-2.27.1-py2.py3-none-any.whl (63 kB)\n",
            "\u001b[K     |████████████████████████████████| 63 kB 933 kB/s \n",
            "\u001b[?25hRequirement already satisfied: numpy>=1.15 in /usr/local/lib/python3.7/dist-packages (from yfinance) (1.21.6)\n",
            "Requirement already satisfied: pandas>=0.24.0 in /usr/local/lib/python3.7/dist-packages (from yfinance) (1.3.5)\n",
            "Requirement already satisfied: multitasking>=0.0.7 in /usr/local/lib/python3.7/dist-packages (from yfinance) (0.0.10)\n",
            "Collecting lxml>=4.5.1\n",
            "  Downloading lxml-4.8.0-cp37-cp37m-manylinux_2_17_x86_64.manylinux2014_x86_64.manylinux_2_24_x86_64.whl (6.4 MB)\n",
            "\u001b[K     |████████████████████████████████| 6.4 MB 24.3 MB/s \n",
            "\u001b[?25hRequirement already satisfied: pytz>=2017.3 in /usr/local/lib/python3.7/dist-packages (from pandas>=0.24.0->yfinance) (2022.1)\n",
            "Requirement already satisfied: python-dateutil>=2.7.3 in /usr/local/lib/python3.7/dist-packages (from pandas>=0.24.0->yfinance) (2.8.2)\n",
            "Requirement already satisfied: six>=1.5 in /usr/local/lib/python3.7/dist-packages (from python-dateutil>=2.7.3->pandas>=0.24.0->yfinance) (1.15.0)\n",
            "Requirement already satisfied: certifi>=2017.4.17 in /usr/local/lib/python3.7/dist-packages (from requests>=2.26->yfinance) (2021.10.8)\n",
            "Requirement already satisfied: urllib3<1.27,>=1.21.1 in /usr/local/lib/python3.7/dist-packages (from requests>=2.26->yfinance) (1.24.3)\n",
            "Requirement already satisfied: idna<4,>=2.5 in /usr/local/lib/python3.7/dist-packages (from requests>=2.26->yfinance) (2.10)\n",
            "Requirement already satisfied: charset-normalizer~=2.0.0 in /usr/local/lib/python3.7/dist-packages (from requests>=2.26->yfinance) (2.0.12)\n",
            "Installing collected packages: requests, lxml, yfinance\n",
            "  Attempting uninstall: requests\n",
            "    Found existing installation: requests 2.23.0\n",
            "    Uninstalling requests-2.23.0:\n",
            "      Successfully uninstalled requests-2.23.0\n",
            "  Attempting uninstall: lxml\n",
            "    Found existing installation: lxml 4.2.6\n",
            "    Uninstalling lxml-4.2.6:\n",
            "      Successfully uninstalled lxml-4.2.6\n",
            "\u001b[31mERROR: pip's dependency resolver does not currently take into account all the packages that are installed. This behaviour is the source of the following dependency conflicts.\n",
            "google-colab 1.0.0 requires requests~=2.23.0, but you have requests 2.27.1 which is incompatible.\n",
            "datascience 0.10.6 requires folium==0.2.1, but you have folium 0.8.3 which is incompatible.\u001b[0m\n",
            "Successfully installed lxml-4.8.0 requests-2.27.1 yfinance-0.1.70\n"
          ]
        }
      ],
      "source": [
        "!pip install twstock\n",
        "!pip install yfinance"
      ]
    },
    {
      "cell_type": "code",
      "source": [
        "from datetime import date\n",
        "import yfinance as yf\n",
        "import pandas as pd\n",
        "import numpy as np\n",
        "\n",
        "x=3443\n",
        "put='{}.tw'.format(x)\n",
        "tpe=yf.Ticker(put)\n",
        "need=tpe.history(start='2022-01-01',end='2022-04-26')\n",
        "need_clear=need.drop(columns=['Dividends','Stock Splits'])\n",
        "print(need_clear)\n",
        "#建立K直索引\n",
        "K_data=pd.DataFrame({'stock':[2330,2884,3443],'K_value':[84.56,74.64,7.62]})\n",
        "K_what=K_data.index[K_data['stock']==x].tolist()\n",
        "\n",
        "#KDJ\n",
        "#搜索返回K\n",
        "K_val=K_data.iat[K_what[0],1]\n"
      ],
      "metadata": {
        "colab": {
          "base_uri": "https://localhost:8080/"
        },
        "id": "icpr5GwejF0h",
        "outputId": "561cd078-5b24-4582-b89d-4276f2f18bb1"
      },
      "execution_count": null,
      "outputs": [
        {
          "output_type": "stream",
          "name": "stdout",
          "text": [
            "             Open   High    Low  Close   Volume\n",
            "Date                                           \n",
            "2022-01-03  592.0  594.0  580.0  580.0   698060\n",
            "2022-01-04  585.0  598.0  582.0  582.0  1223737\n",
            "2022-01-05  588.0  592.0  574.0  580.0   988371\n",
            "2022-01-06  570.0  571.0  539.0  545.0  2812076\n",
            "2022-01-07  548.0  551.0  521.0  527.0  2536175\n",
            "...           ...    ...    ...    ...      ...\n",
            "2022-04-19  478.0  484.0  468.0  471.0  1163006\n",
            "2022-04-20  476.5  479.5  463.0  469.5   859050\n",
            "2022-04-21  471.0  474.0  463.5  472.5   859250\n",
            "2022-04-22  465.0  465.0  441.0  444.0  1828170\n",
            "2022-04-25  417.0  422.0  403.0  406.0  1967277\n",
            "\n",
            "[71 rows x 5 columns]\n",
            "[2]\n",
            "7.62\n"
          ]
        }
      ]
    },
    {
      "cell_type": "code",
      "source": [
        "class p_s_s:#(指標群組py_skill_stock)  \n",
        "  ##取出要得字串\n",
        "  def catch(list_all,nlong,where):\n",
        "    return list_all[where-nlong+1:where+1]#因為nlong是1~5、起始0~4、加回1，where算到前一個所以加1\n",
        "  class ma:\n",
        "    ##MA函數\n",
        "    def mafx(list_all,nlong,where):\n",
        "      return round(sum(p_s_s.catch(list_all,nlong,where))/nlong,2)\n",
        "    def mafxs(list_all,nlong,where,how_much):\n",
        "      mafxs_list=[]\n",
        "      for i in range(0,how_much):\n",
        "        mafxs_list_one=p_s_s.ma.mafx(list_all,nlong,where-i)\n",
        "        mafxs_list.append(mafxs_list_one)\n",
        "        mafxs_list.reverse()\n",
        "      return mafxs_list\n",
        "  class bon:\n",
        "    def __init__(self,i1,i2,i3):\n",
        "      self.i1=i1\n",
        "      self.i2=i2\n",
        "      self.i3=i3\n",
        "    ##分析布林標準差\n",
        "    def bon_sigama(list_all,nlong,where):\n",
        "      return round(np.std(p_s_s.catch(list_all,nlong,where)),2)\n",
        "    def bon_u_m_d(list_all,nlong,where):\n",
        "      sigma=p_s_s.bon.bon_sigama(list_all,nlong,where)\n",
        "      ma20=p_s_s.ma.mafx(list_all,nlong,where)\n",
        "      bonup=ma20+2*sigma\n",
        "      bondown=ma20-2*sigma\n",
        "      u_m_d=p_s_s.bon(bonup,ma20,bondown)\n",
        "      return u_m_d\n",
        "    def bon_u_m_ds(list_all,nlong,where,how_much):\n",
        "      bons_list=[]\n",
        "      for i in range(0,how_much):\n",
        "        bons_list_one_up=p_s_s.bon.bon_u_m_d(list_all,nlong,where-i).i1\n",
        "        bons_list_one_ma20=p_s_s.bon.bon_u_m_d(list_all,nlong,where-i).i2\n",
        "        bons_list_one_down=p_s_s.bon.bon_u_m_d(list_all,nlong,where-i).i3\n",
        "        bons_list.append([bons_list_one_up,bons_list_one_ma20,bons_list_one_down])\n",
        "        bons_list.reverse()\n",
        "      return bons_list\n",
        "\n"
      ],
      "metadata": {
        "id": "dR5bG0Jc1Ne7"
      },
      "execution_count": null,
      "outputs": []
    },
    {
      "cell_type": "code",
      "source": [
        "open=np.round(list(need_clear['Open']),2)\n",
        "high=np.round(list(need_clear['High']),2)\n",
        "low=np.round(list(need_clear['Low']),2)\n",
        "close=np.round(list(need_clear['Close']),2)\n",
        "volume=np.round(list(need_clear['Volume']),2)\n",
        "print(type(open))\n",
        "\n",
        "\n",
        "MA_5=p_s_s.ma.mafx(close,5,len(open)-1)\n",
        "MA_20=p_s_s.ma.mafx(close,20,len(open)-1)\n",
        "MA_60=p_s_s.ma.mafx(close,60,len(open)-1)"
      ],
      "metadata": {
        "colab": {
          "base_uri": "https://localhost:8080/"
        },
        "id": "Jf-34VjYwNQl",
        "outputId": "baf99b74-074b-45af-ee04-171674c7177e"
      },
      "execution_count": null,
      "outputs": [
        {
          "output_type": "stream",
          "name": "stdout",
          "text": [
            "<class 'numpy.ndarray'>\n",
            "561.0\n"
          ]
        }
      ]
    }
  ]
}